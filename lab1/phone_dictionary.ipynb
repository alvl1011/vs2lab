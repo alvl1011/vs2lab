{
 "cells": [
  {
   "cell_type": "code",
   "execution_count": 2,
   "id": "7578b3fa",
   "metadata": {},
   "outputs": [],
   "source": [
    "phone_dictionary = {\n",
    "    \"default\": \"555-default\",\n",
    "    \"vladi\": \"+49 1517 5489401\",\n",
    "    \"shoaib\": \"555-58954\",\n",
    "    \"nico\": \"555-52145\"\n",
    "}"
   ]
  },
  {
   "cell_type": "code",
   "execution_count": null,
   "id": "9ac40d17",
   "metadata": {},
   "outputs": [],
   "source": []
  }
 ],
 "metadata": {
  "kernelspec": {
   "display_name": "Python 3 (ipykernel)",
   "language": "python",
   "name": "python3"
  },
  "language_info": {
   "codemirror_mode": {
    "name": "ipython",
    "version": 3
   },
   "file_extension": ".py",
   "mimetype": "text/x-python",
   "name": "python",
   "nbconvert_exporter": "python",
   "pygments_lexer": "ipython3",
   "version": "3.8.16"
  }
 },
 "nbformat": 4,
 "nbformat_minor": 5
}
