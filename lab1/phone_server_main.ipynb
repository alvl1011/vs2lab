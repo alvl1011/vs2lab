{
 "cells": [
  {
   "cell_type": "markdown",
   "id": "c95be02a",
   "metadata": {},
   "source": [
    "## The server is then started and waits for an incoming connection from the client in a separate window."
   ]
  },
  {
   "cell_type": "code",
   "execution_count": null,
   "id": "981aa054",
   "metadata": {},
   "outputs": [],
   "source": [
    "from phone_server import PhoneServer\n",
    "\n",
    "server = PhoneServer()\n",
    "\n",
    "server.serve()"
   ]
  },
  {
   "cell_type": "code",
   "execution_count": null,
   "id": "7a7789bc",
   "metadata": {},
   "outputs": [],
   "source": []
  }
 ],
 "metadata": {
  "kernelspec": {
   "display_name": "Python 3 (ipykernel)",
   "language": "python",
   "name": "python3"
  },
  "language_info": {
   "codemirror_mode": {
    "name": "ipython",
    "version": 3
   },
   "file_extension": ".py",
   "mimetype": "text/x-python",
   "name": "python",
   "nbconvert_exporter": "python",
   "pygments_lexer": "ipython3",
   "version": "3.8.16"
  }
 },
 "nbformat": 4,
 "nbformat_minor": 5
}
