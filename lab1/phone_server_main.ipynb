{
 "cells": [
  {
   "cell_type": "markdown",
   "id": "c95be02a",
   "metadata": {},
   "source": [
    "## Phone Server\n",
    "The server is then started and waits for an incoming connection from the client in a separate window."
   ]
  },
  {
   "cell_type": "code",
   "execution_count": null,
   "id": "981aa054",
   "metadata": {},
   "outputs": [
    {
     "name": "stderr",
     "output_type": "stream",
     "text": [
      "2023-04-13 10:32:15,566 - vs2lab.lab1.phone_server.PhoneServer - INFO - Server bound to socket <socket.socket fd=57, family=AddressFamily.AF_INET, type=SocketKind.SOCK_STREAM, proto=0, laddr=('127.0.0.1', 50007)>\n"
     ]
    }
   ],
   "source": [
    "from phone_server import PhoneServer\n",
    "from phone_dictionary import phone_dictionary\n",
    "\n",
    "server = PhoneServer(phone_dictionary)\n",
    "\n",
    "server.serve()"
   ]
  },
  {
   "cell_type": "code",
   "execution_count": null,
   "id": "7a7789bc",
   "metadata": {},
   "outputs": [],
   "source": []
  }
 ],
 "metadata": {
  "kernelspec": {
   "display_name": "Python 3 (ipykernel)",
   "language": "python",
   "name": "python3"
  },
  "language_info": {
   "codemirror_mode": {
    "name": "ipython",
    "version": 3
   },
   "file_extension": ".py",
   "mimetype": "text/x-python",
   "name": "python",
   "nbconvert_exporter": "python",
   "pygments_lexer": "ipython3",
   "version": "3.8.10"
  }
 },
 "nbformat": 4,
 "nbformat_minor": 5
}
