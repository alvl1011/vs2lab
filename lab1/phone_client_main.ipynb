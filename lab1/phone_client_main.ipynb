{
 "cells": [
  {
   "cell_type": "markdown",
   "id": "f3cc67e5",
   "metadata": {},
   "source": [
    "# First of all, we have to start our server. Here and on the client side, an input is first awaited. For further information you can enter \"HELP\" as an input. After entering the input, it will search in the \"Dictionary\" for the name entered by the user. If you want to output all phone numbers instead, you can just type GETALL."
   ]
  },
  {
   "cell_type": "code",
   "execution_count": null,
   "id": "56b4cc25",
   "metadata": {},
   "outputs": [],
   "source": [
    "from phone_client import PhoneClient\n",
    "\n",
    "client = PhoneClient()\n",
    "\n",
    "while True:\n",
    "    command = input(\"Type API command:\")\n",
    "\n",
    "    if command.startswith(\"HELP\"):\n",
    "        print(\"HELP - list of methods\\n GET <name> - get phone number of person\\n GETALL - all numbers\\n EXIT - close client\")\n",
    "    elif command.startswith(\"GETALL\"):\n",
    "        client.getall()\n",
    "    elif command.startswith(\"GET\"):\n",
    "        name = command.split()[1]\n",
    "        client.get(name)\n",
    "    elif command.startswith(\"EXIT\"):\n",
    "        client.close()\n",
    "        break"
   ]
  },
  {
   "cell_type": "code",
   "execution_count": null,
   "id": "b0761517",
   "metadata": {},
   "outputs": [],
   "source": []
  }
 ],
 "metadata": {
  "kernelspec": {
   "display_name": "Python 3 (ipykernel)",
   "language": "python",
   "name": "python3"
  },
  "language_info": {
   "codemirror_mode": {
    "name": "ipython",
    "version": 3
   },
   "file_extension": ".py",
   "mimetype": "text/x-python",
   "name": "python",
   "nbconvert_exporter": "python",
   "pygments_lexer": "ipython3",
   "version": "3.8.16"
  }
 },
 "nbformat": 4,
 "nbformat_minor": 5
}
