{
 "cells": [
  {
   "cell_type": "code",
   "execution_count": 2,
   "id": "96fb92be",
   "metadata": {},
   "outputs": [],
   "source": [
    "import json\n",
    "import logging\n",
    "import socket\n",
    "\n",
    "import const_cs\n",
    "from context import lab_logging\n",
    "\n",
    "lab_logging.setup(stream_level=logging.INFO)\n",
    "\n",
    "class PhoneClient:\n",
    "\n",
    "    logger = logging.getLogger(\"[vs2lab.a1_layers.phone_client.PhoneClient]\")\n",
    "    def __init__(self):\n",
    "        self.sock = socket.socket(socket.AF_INET, socket.SOCK_STREAM)\n",
    "        self.sock.connect((const_cs.HOST, const_cs.PORT))\n",
    "        self.logger.info(\"Client connected to socket \" + str(self.sock))\n",
    "\n",
    "\n",
    "    def get(self, name=\"default\"):\n",
    "        self.sock.send((\"GET\" + name).encode('ascii'))\n",
    "        data = self.sock.recv(1024)\n",
    "        phone_data = data.decode('ascii')\n",
    "        print(phone_data)\n",
    "        return phone_data\n",
    "    def getall(self):\n",
    "        self.sock.send(\"GETALL\".encode('ascii'))\n",
    "        data = self.sock.recv(1024)\n",
    "        phone_data = data.decode('ascii')\n",
    "        print('\\n ALL:')\n",
    "        format(json.loads(phone_data))\n",
    "        return phone_data\n",
    "    def close(self):\n",
    "        self.sock.close()\n",
    "        self.logger.info(\"Client connection is down.\")\n",
    "\n",
    "\n",
    "def format(data):\n",
    "    for key, value in data.items():\n",
    "        print(\"\\t\" + key.capitalize() + \"'s\" + \" phone: \" + value)"
   ]
  },
  {
   "cell_type": "code",
   "execution_count": null,
   "id": "8f3973fa",
   "metadata": {},
   "outputs": [],
   "source": []
  }
 ],
 "metadata": {
  "kernelspec": {
   "display_name": "Python 3 (ipykernel)",
   "language": "python",
   "name": "python3"
  },
  "language_info": {
   "codemirror_mode": {
    "name": "ipython",
    "version": 3
   },
   "file_extension": ".py",
   "mimetype": "text/x-python",
   "name": "python",
   "nbconvert_exporter": "python",
   "pygments_lexer": "ipython3",
   "version": "3.8.16"
  }
 },
 "nbformat": 4,
 "nbformat_minor": 5
}
